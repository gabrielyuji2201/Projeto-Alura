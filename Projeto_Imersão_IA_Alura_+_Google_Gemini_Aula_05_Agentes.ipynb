{
  "nbformat": 4,
  "nbformat_minor": 0,
  "metadata": {
    "colab": {
      "provenance": [],
      "include_colab_link": true
    },
    "kernelspec": {
      "name": "python3",
      "display_name": "Python 3"
    },
    "language_info": {
      "name": "python"
    }
  },
  "cells": [
    {
      "cell_type": "markdown",
      "metadata": {
        "id": "view-in-github",
        "colab_type": "text"
      },
      "source": [
        "<a href=\"https://colab.research.google.com/github/gabrielyuji2201/Projeto-Alura/blob/main/Projeto_Imers%C3%A3o_IA_Alura_%2B_Google_Gemini_Aula_05_Agentes.ipynb\" target=\"_parent\"><img src=\"https://colab.research.google.com/assets/colab-badge.svg\" alt=\"Open In Colab\"/></a>"
      ]
    },
    {
      "cell_type": "code",
      "source": [
        "%pip -q install google-genai"
      ],
      "metadata": {
        "id": "UCCbECexLk_h"
      },
      "execution_count": 1,
      "outputs": []
    },
    {
      "cell_type": "code",
      "source": [
        "from datetime import date\n",
        "from IPython.display import display, Markdown as md\n",
        "from vertexai.generative_models import GenerativeModel, Tool\n",
        "import json\n"
      ],
      "metadata": {
        "id": "85dnFz8zdUPf"
      },
      "execution_count": 18,
      "outputs": []
    },
    {
      "cell_type": "code",
      "source": [
        "# Configura a API Key do Google Gemini\n",
        "\n",
        "import os\n",
        "from google.colab import userdata\n",
        "\n",
        "os.environ[\"GOOGLE_API_KEY\"] = userdata.get('GOOGLE_API_KEY')"
      ],
      "metadata": {
        "id": "NfCqHo1tLk8P"
      },
      "execution_count": 2,
      "outputs": []
    },
    {
      "cell_type": "code",
      "source": [
        "# Configura o cliente da SDK do Gemini\n",
        "\n",
        "from google import genai\n",
        "\n",
        "client = genai.Client()\n",
        "\n",
        "MODEL_ID = \"gemini-2.0-flash\""
      ],
      "metadata": {
        "id": "bV4w0H5TLk5g"
      },
      "execution_count": 3,
      "outputs": []
    },
    {
      "cell_type": "code",
      "source": [
        "# Pergunta ao Gemini uma informação mais recente que seu conhecimento\n",
        "\n",
        "from IPython.display import HTML, Markdown\n",
        "\n",
        "# Perguntar pro modelo quando é a próxima imersão de IA ###############################################\n",
        "resposta = client.models.generate_content(\n",
        "    model=MODEL_ID,\n",
        "    contents=\"Quando é a próxima Imersão IA com Google Gemini da Alura?\",\n",
        ")\n",
        "\n",
        "# Exibe a resposta na tela\n",
        "display(Markdown(f\"Resposta:\\n {resposta.text}\"))"
      ],
      "metadata": {
        "id": "HwVP7Xi34Zuw",
        "colab": {
          "base_uri": "https://localhost:8080/",
          "height": 232
        },
        "outputId": "b01f904e-d0a0-4192-8680-d8ff04d7d084"
      },
      "execution_count": 4,
      "outputs": [
        {
          "output_type": "display_data",
          "data": {
            "text/plain": [
              "<IPython.core.display.Markdown object>"
            ],
            "text/markdown": "Resposta:\n A Alura não tem uma data fixa para a Imersão IA com Google Gemini. A melhor forma de saber quando será a próxima edição é:\n\n*   **Acompanhar a página da Alura:** Verifique a página de cursos de Inteligência Artificial da Alura regularmente: [https://www.alura.com.br/cursos-online-ia-machine-learning](https://www.alura.com.br/cursos-online-ia-machine-learning)\n*   **Seguir a Alura nas redes sociais:** A Alura costuma anunciar novos cursos e imersões em suas redes sociais (LinkedIn, Instagram, etc.).\n*   **Assinar a newsletter da Alura:** Ao se inscrever na newsletter, você receberá informações sobre lançamentos e eventos.\n*   **Entrar na comunidade da Alura:** Participar da comunidade da Alura pode te dar acesso a informações em primeira mão sobre os próximos eventos.\n\nDessa forma, você estará sempre atualizado sobre as novidades e poderá se inscrever na próxima Imersão IA com Google Gemini assim que ela for anunciada."
          },
          "metadata": {}
        }
      ]
    },
    {
      "cell_type": "code",
      "source": [
        "# Pergunta ao Gemini uma informação utilizando a busca do Google como contexto\n",
        "\n",
        "response = client.models.generate_content(\n",
        "    model=MODEL_ID,\n",
        "    contents='Quando é a próxima Imersão IA com Google Gemini da Alura?',\n",
        "    config={\"tools\":[{\"google_search\": {}}]}\n",
        ")\n",
        "\n",
        "# Exibe a resposta na tela\n",
        "display(Markdown(f\"Resposta:\\n {response.text}\"))"
      ],
      "metadata": {
        "id": "yXaZd7iZ4ftw",
        "colab": {
          "base_uri": "https://localhost:8080/",
          "height": 139
        },
        "outputId": "84391148-225a-4a32-cf02-b6583124589c"
      },
      "execution_count": 5,
      "outputs": [
        {
          "output_type": "display_data",
          "data": {
            "text/plain": [
              "<IPython.core.display.Markdown object>"
            ],
            "text/markdown": "Resposta:\n A próxima Imersão IA com Google Gemini da Alura acontecerá entre os dias 12 e 16 de maio de 2025. Durante esse período, você receberá o link para a aula do dia diretamente no seu e-mail. A Imersão é totalmente online, gratuita e não exige conhecimento prévio.\n\nA Imersão IA é um mergulho em conteúdos exclusivos e gratuitos no universo de inteligência artificial com o Google Gemini. Serão cinco aulas para você aprender na prática a criar prompts poderosos, automatizar tarefas e desenvolver um sistema de agentes autônomos que trabalham sozinhos, executando tarefas por você. Ao final da Imersão, você receberá um certificado Alura + Google.\n"
          },
          "metadata": {}
        }
      ]
    },
    {
      "cell_type": "code",
      "source": [],
      "metadata": {
        "id": "KkXfxTU7kgId"
      },
      "execution_count": null,
      "outputs": []
    },
    {
      "cell_type": "code",
      "source": [
        "# Exibe a busca\n",
        "print(f\"Busca realizada: {response.candidates[0].grounding_metadata.web_search_queries}\")\n",
        "# Exibe as URLs nas quais ele se baseou\n",
        "print(f\"Páginas utilizadas na resposta: {', '.join([site.web.title for site in response.candidates[0].grounding_metadata.grounding_chunks])}\")\n",
        "print()\n",
        "display(HTML(response.candidates[0].grounding_metadata.search_entry_point.rendered_content))"
      ],
      "metadata": {
        "id": "xHSNlTd84heJ",
        "colab": {
          "base_uri": "https://localhost:8080/",
          "height": 117
        },
        "outputId": "02005138-5aaa-4ad3-a596-cf5a40f25148"
      },
      "execution_count": 6,
      "outputs": [
        {
          "output_type": "stream",
          "name": "stdout",
          "text": [
            "Busca realizada: ['Imersão IA com Google Gemini Alura', 'Próxima Imersão IA com Google Gemini Alura']\n",
            "Páginas utilizadas na resposta: alura.com.br, tecmundo.com.br, starten.tech\n",
            "\n"
          ]
        },
        {
          "output_type": "display_data",
          "data": {
            "text/plain": [
              "<IPython.core.display.HTML object>"
            ],
            "text/html": [
              "<style>\n",
              ".container {\n",
              "  align-items: center;\n",
              "  border-radius: 8px;\n",
              "  display: flex;\n",
              "  font-family: Google Sans, Roboto, sans-serif;\n",
              "  font-size: 14px;\n",
              "  line-height: 20px;\n",
              "  padding: 8px 12px;\n",
              "}\n",
              ".chip {\n",
              "  display: inline-block;\n",
              "  border: solid 1px;\n",
              "  border-radius: 16px;\n",
              "  min-width: 14px;\n",
              "  padding: 5px 16px;\n",
              "  text-align: center;\n",
              "  user-select: none;\n",
              "  margin: 0 8px;\n",
              "  -webkit-tap-highlight-color: transparent;\n",
              "}\n",
              ".carousel {\n",
              "  overflow: auto;\n",
              "  scrollbar-width: none;\n",
              "  white-space: nowrap;\n",
              "  margin-right: -12px;\n",
              "}\n",
              ".headline {\n",
              "  display: flex;\n",
              "  margin-right: 4px;\n",
              "}\n",
              ".gradient-container {\n",
              "  position: relative;\n",
              "}\n",
              ".gradient {\n",
              "  position: absolute;\n",
              "  transform: translate(3px, -9px);\n",
              "  height: 36px;\n",
              "  width: 9px;\n",
              "}\n",
              "@media (prefers-color-scheme: light) {\n",
              "  .container {\n",
              "    background-color: #fafafa;\n",
              "    box-shadow: 0 0 0 1px #0000000f;\n",
              "  }\n",
              "  .headline-label {\n",
              "    color: #1f1f1f;\n",
              "  }\n",
              "  .chip {\n",
              "    background-color: #ffffff;\n",
              "    border-color: #d2d2d2;\n",
              "    color: #5e5e5e;\n",
              "    text-decoration: none;\n",
              "  }\n",
              "  .chip:hover {\n",
              "    background-color: #f2f2f2;\n",
              "  }\n",
              "  .chip:focus {\n",
              "    background-color: #f2f2f2;\n",
              "  }\n",
              "  .chip:active {\n",
              "    background-color: #d8d8d8;\n",
              "    border-color: #b6b6b6;\n",
              "  }\n",
              "  .logo-dark {\n",
              "    display: none;\n",
              "  }\n",
              "  .gradient {\n",
              "    background: linear-gradient(90deg, #fafafa 15%, #fafafa00 100%);\n",
              "  }\n",
              "}\n",
              "@media (prefers-color-scheme: dark) {\n",
              "  .container {\n",
              "    background-color: #1f1f1f;\n",
              "    box-shadow: 0 0 0 1px #ffffff26;\n",
              "  }\n",
              "  .headline-label {\n",
              "    color: #fff;\n",
              "  }\n",
              "  .chip {\n",
              "    background-color: #2c2c2c;\n",
              "    border-color: #3c4043;\n",
              "    color: #fff;\n",
              "    text-decoration: none;\n",
              "  }\n",
              "  .chip:hover {\n",
              "    background-color: #353536;\n",
              "  }\n",
              "  .chip:focus {\n",
              "    background-color: #353536;\n",
              "  }\n",
              "  .chip:active {\n",
              "    background-color: #464849;\n",
              "    border-color: #53575b;\n",
              "  }\n",
              "  .logo-light {\n",
              "    display: none;\n",
              "  }\n",
              "  .gradient {\n",
              "    background: linear-gradient(90deg, #1f1f1f 15%, #1f1f1f00 100%);\n",
              "  }\n",
              "}\n",
              "</style>\n",
              "<div class=\"container\">\n",
              "  <div class=\"headline\">\n",
              "    <svg class=\"logo-light\" width=\"18\" height=\"18\" viewBox=\"9 9 35 35\" fill=\"none\" xmlns=\"http://www.w3.org/2000/svg\">\n",
              "      <path fill-rule=\"evenodd\" clip-rule=\"evenodd\" d=\"M42.8622 27.0064C42.8622 25.7839 42.7525 24.6084 42.5487 23.4799H26.3109V30.1568H35.5897C35.1821 32.3041 33.9596 34.1222 32.1258 35.3448V39.6864H37.7213C40.9814 36.677 42.8622 32.2571 42.8622 27.0064V27.0064Z\" fill=\"#4285F4\"/>\n",
              "      <path fill-rule=\"evenodd\" clip-rule=\"evenodd\" d=\"M26.3109 43.8555C30.9659 43.8555 34.8687 42.3195 37.7213 39.6863L32.1258 35.3447C30.5898 36.3792 28.6306 37.0061 26.3109 37.0061C21.8282 37.0061 18.0195 33.9811 16.6559 29.906H10.9194V34.3573C13.7563 39.9841 19.5712 43.8555 26.3109 43.8555V43.8555Z\" fill=\"#34A853\"/>\n",
              "      <path fill-rule=\"evenodd\" clip-rule=\"evenodd\" d=\"M16.6559 29.8904C16.3111 28.8559 16.1074 27.7588 16.1074 26.6146C16.1074 25.4704 16.3111 24.3733 16.6559 23.3388V18.8875H10.9194C9.74388 21.2072 9.06992 23.8247 9.06992 26.6146C9.06992 29.4045 9.74388 32.022 10.9194 34.3417L15.3864 30.8621L16.6559 29.8904V29.8904Z\" fill=\"#FBBC05\"/>\n",
              "      <path fill-rule=\"evenodd\" clip-rule=\"evenodd\" d=\"M26.3109 16.2386C28.85 16.2386 31.107 17.1164 32.9095 18.8091L37.8466 13.8719C34.853 11.082 30.9659 9.3736 26.3109 9.3736C19.5712 9.3736 13.7563 13.245 10.9194 18.8875L16.6559 23.3388C18.0195 19.2636 21.8282 16.2386 26.3109 16.2386V16.2386Z\" fill=\"#EA4335\"/>\n",
              "    </svg>\n",
              "    <svg class=\"logo-dark\" width=\"18\" height=\"18\" viewBox=\"0 0 48 48\" xmlns=\"http://www.w3.org/2000/svg\">\n",
              "      <circle cx=\"24\" cy=\"23\" fill=\"#FFF\" r=\"22\"/>\n",
              "      <path d=\"M33.76 34.26c2.75-2.56 4.49-6.37 4.49-11.26 0-.89-.08-1.84-.29-3H24.01v5.99h8.03c-.4 2.02-1.5 3.56-3.07 4.56v.75l3.91 2.97h.88z\" fill=\"#4285F4\"/>\n",
              "      <path d=\"M15.58 25.77A8.845 8.845 0 0 0 24 31.86c1.92 0 3.62-.46 4.97-1.31l4.79 3.71C31.14 36.7 27.65 38 24 38c-5.93 0-11.01-3.4-13.45-8.36l.17-1.01 4.06-2.85h.8z\" fill=\"#34A853\"/>\n",
              "      <path d=\"M15.59 20.21a8.864 8.864 0 0 0 0 5.58l-5.03 3.86c-.98-2-1.53-4.25-1.53-6.64 0-2.39.55-4.64 1.53-6.64l1-.22 3.81 2.98.22 1.08z\" fill=\"#FBBC05\"/>\n",
              "      <path d=\"M24 14.14c2.11 0 4.02.75 5.52 1.98l4.36-4.36C31.22 9.43 27.81 8 24 8c-5.93 0-11.01 3.4-13.45 8.36l5.03 3.85A8.86 8.86 0 0 1 24 14.14z\" fill=\"#EA4335\"/>\n",
              "    </svg>\n",
              "    <div class=\"gradient-container\"><div class=\"gradient\"></div></div>\n",
              "  </div>\n",
              "  <div class=\"carousel\">\n",
              "    <a class=\"chip\" href=\"https://vertexaisearch.cloud.google.com/grounding-api-redirect/AbF9wXEdmFtI2qwykVE621lhPHRN1x4WEMHWohM_wegZ3LgVi_CTPdlwSOdsDh-DSHHj4vMMPyohfDo6CjooIlDYykl1YB-1812f2PzlL9yenEUw413fLA0wXK_F874Qz9F-5hSGA5RV82bzDNYf4kjdO-9DpC9ppW2SfZQvRZnXsRRYzSFUCNnDx0xQn8VlhYrxGbbeTNva7_sNKQ6fiHKEnmyA6VahI79BrweaI2MsU-CZBdrSo8FYNKE=\">Próxima Imersão IA com Google Gemini Alura</a>\n",
              "    <a class=\"chip\" href=\"https://vertexaisearch.cloud.google.com/grounding-api-redirect/AbF9wXG4FkSWU6GOPEmA0bftrhB1QyuUIVnS0yaKoUO--3flZAmEXSP9sFYhXTrId64ve3t1TePlRKadbvcsmeUIvTcu7swDRp4FlDFTses-KMjn_coej45jnVTF4ANy7KIvErNyZQx29T19iEoubDzlWQIXl-XPzaNysgmxHf2hT4aP2wLoO3cPzr8voJGlLyt4TyEQ4sv-UpqUf6JLKpEq_ccY2QdeNT0yXFiV\">Imersão IA com Google Gemini Alura</a>\n",
              "  </div>\n",
              "</div>\n"
            ]
          },
          "metadata": {}
        }
      ]
    },
    {
      "cell_type": "code",
      "source": [
        "# Instalar Framework ADK de agentes do Google ################################################\n",
        "!pip install -q google-adk"
      ],
      "metadata": {
        "id": "hvZ3UnPI4jhJ",
        "colab": {
          "base_uri": "https://localhost:8080/"
        },
        "outputId": "a8e05cb8-2c6e-48c1-cfb8-31b9b5f3c81e"
      },
      "execution_count": 7,
      "outputs": [
        {
          "output_type": "stream",
          "name": "stdout",
          "text": [
            "\u001b[?25l   \u001b[90m━━━━━━━━━━━━━━━━━━━━━━━━━━━━━━━━━━━━━━━━\u001b[0m \u001b[32m0.0/1.2 MB\u001b[0m \u001b[31m?\u001b[0m eta \u001b[36m-:--:--\u001b[0m\r\u001b[2K   \u001b[91m━━━━━━━━━━━━━━━\u001b[0m\u001b[91m╸\u001b[0m\u001b[90m━━━━━━━━━━━━━━━━━━━━━━━━\u001b[0m \u001b[32m0.5/1.2 MB\u001b[0m \u001b[31m14.0 MB/s\u001b[0m eta \u001b[36m0:00:01\u001b[0m\r\u001b[2K   \u001b[91m━━━━━━━━━━━━━━━━━━━━━━━━━━━━━━━━━━━━━━━\u001b[0m\u001b[91m╸\u001b[0m \u001b[32m1.2/1.2 MB\u001b[0m \u001b[31m22.4 MB/s\u001b[0m eta \u001b[36m0:00:01\u001b[0m\r\u001b[2K   \u001b[90m━━━━━━━━━━━━━━━━━━━━━━━━━━━━━━━━━━━━━━━━\u001b[0m \u001b[32m1.2/1.2 MB\u001b[0m \u001b[31m16.4 MB/s\u001b[0m eta \u001b[36m0:00:00\u001b[0m\n",
            "\u001b[?25h\u001b[?25l   \u001b[90m━━━━━━━━━━━━━━━━━━━━━━━━━━━━━━━━━━━━━━━━\u001b[0m \u001b[32m0.0/232.1 kB\u001b[0m \u001b[31m?\u001b[0m eta \u001b[36m-:--:--\u001b[0m\r\u001b[2K   \u001b[90m━━━━━━━━━━━━━━━━━━━━━━━━━━━━━━━━━━━━━━━━\u001b[0m \u001b[32m232.1/232.1 kB\u001b[0m \u001b[31m15.0 MB/s\u001b[0m eta \u001b[36m0:00:00\u001b[0m\n",
            "\u001b[2K   \u001b[90m━━━━━━━━━━━━━━━━━━━━━━━━━━━━━━━━━━━━━━━━\u001b[0m \u001b[32m95.2/95.2 kB\u001b[0m \u001b[31m6.2 MB/s\u001b[0m eta \u001b[36m0:00:00\u001b[0m\n",
            "\u001b[2K   \u001b[90m━━━━━━━━━━━━━━━━━━━━━━━━━━━━━━━━━━━━━━━━\u001b[0m \u001b[32m217.1/217.1 kB\u001b[0m \u001b[31m15.0 MB/s\u001b[0m eta \u001b[36m0:00:00\u001b[0m\n",
            "\u001b[2K   \u001b[90m━━━━━━━━━━━━━━━━━━━━━━━━━━━━━━━━━━━━━━━━\u001b[0m \u001b[32m334.1/334.1 kB\u001b[0m \u001b[31m19.6 MB/s\u001b[0m eta \u001b[36m0:00:00\u001b[0m\n",
            "\u001b[2K   \u001b[90m━━━━━━━━━━━━━━━━━━━━━━━━━━━━━━━━━━━━━━━━\u001b[0m \u001b[32m125.1/125.1 kB\u001b[0m \u001b[31m8.1 MB/s\u001b[0m eta \u001b[36m0:00:00\u001b[0m\n",
            "\u001b[2K   \u001b[90m━━━━━━━━━━━━━━━━━━━━━━━━━━━━━━━━━━━━━━━━\u001b[0m \u001b[32m65.8/65.8 kB\u001b[0m \u001b[31m4.3 MB/s\u001b[0m eta \u001b[36m0:00:00\u001b[0m\n",
            "\u001b[2K   \u001b[90m━━━━━━━━━━━━━━━━━━━━━━━━━━━━━━━━━━━━━━━━\u001b[0m \u001b[32m119.0/119.0 kB\u001b[0m \u001b[31m8.0 MB/s\u001b[0m eta \u001b[36m0:00:00\u001b[0m\n",
            "\u001b[2K   \u001b[90m━━━━━━━━━━━━━━━━━━━━━━━━━━━━━━━━━━━━━━━━\u001b[0m \u001b[32m194.9/194.9 kB\u001b[0m \u001b[31m12.6 MB/s\u001b[0m eta \u001b[36m0:00:00\u001b[0m\n",
            "\u001b[2K   \u001b[90m━━━━━━━━━━━━━━━━━━━━━━━━━━━━━━━━━━━━━━━━\u001b[0m \u001b[32m62.5/62.5 kB\u001b[0m \u001b[31m4.3 MB/s\u001b[0m eta \u001b[36m0:00:00\u001b[0m\n",
            "\u001b[2K   \u001b[90m━━━━━━━━━━━━━━━━━━━━━━━━━━━━━━━━━━━━━━━━\u001b[0m \u001b[32m103.3/103.3 kB\u001b[0m \u001b[31m6.9 MB/s\u001b[0m eta \u001b[36m0:00:00\u001b[0m\n",
            "\u001b[2K   \u001b[90m━━━━━━━━━━━━━━━━━━━━━━━━━━━━━━━━━━━━━━━━\u001b[0m \u001b[32m44.4/44.4 kB\u001b[0m \u001b[31m2.4 MB/s\u001b[0m eta \u001b[36m0:00:00\u001b[0m\n",
            "\u001b[2K   \u001b[90m━━━━━━━━━━━━━━━━━━━━━━━━━━━━━━━━━━━━━━━━\u001b[0m \u001b[32m72.0/72.0 kB\u001b[0m \u001b[31m4.7 MB/s\u001b[0m eta \u001b[36m0:00:00\u001b[0m\n",
            "\u001b[?25h"
          ]
        }
      ]
    },
    {
      "cell_type": "code",
      "execution_count": 8,
      "metadata": {
        "id": "aePV2bdfDeoW"
      },
      "outputs": [],
      "source": [
        "from google.adk.agents import Agent\n",
        "from google.adk.runners import Runner\n",
        "from google.adk.sessions import InMemorySessionService\n",
        "from google.adk.tools import google_search\n",
        "from google.genai import types  # Para criar conteúdos (Content e Part)\n",
        "from datetime import date\n",
        "import textwrap # Para formatar melhor a saída de texto\n",
        "from IPython.display import display, Markdown # Para exibir texto formatado no Colab\n",
        "import requests # Para fazer requisições HTTP\n",
        "import warnings\n",
        "\n",
        "warnings.filterwarnings(\"ignore\")"
      ]
    },
    {
      "cell_type": "code",
      "source": [
        "# Função auxiliar que envia uma mensagem para um agente via Runner e retorna a resposta final\n",
        "def call_agent(agent: Agent, message_text: str) -> str:\n",
        "    # Cria um serviço de sessão em memória\n",
        "    session_service = InMemorySessionService()\n",
        "    # Cria uma nova sessão (você pode personalizar os IDs conforme necessário)\n",
        "    session = session_service.create_session(app_name=agent.name, user_id=\"user1\", session_id=\"session1\")\n",
        "    # Cria um Runner para o agente\n",
        "    runner = Runner(agent=agent, app_name=agent.name, session_service=session_service)\n",
        "    # Cria o conteúdo da mensagem de entrada\n",
        "    content = types.Content(role=\"user\", parts=[types.Part(text=message_text)])\n",
        "\n",
        "    final_response = \"\"\n",
        "    # Itera assincronamente pelos eventos retornados durante a execução do agente\n",
        "    for event in runner.run(user_id=\"user1\", session_id=\"session1\", new_message=content):\n",
        "        if event.is_final_response():\n",
        "          for part in event.content.parts:\n",
        "            if part.text is not None:\n",
        "              final_response += part.text\n",
        "              final_response += \"\\n\"\n",
        "    return final_response"
      ],
      "metadata": {
        "id": "_xP4lWhsS5ko"
      },
      "execution_count": 9,
      "outputs": []
    },
    {
      "cell_type": "code",
      "source": [
        "# Função auxiliar para exibir texto formatado em Markdown no Colab\n",
        "def to_markdown(text):\n",
        "  text = text.replace('•', '  *')\n",
        "  return Markdown(textwrap.indent(text, '> ', predicate=lambda _: True))"
      ],
      "metadata": {
        "id": "8dosiodaxfFR"
      },
      "execution_count": 10,
      "outputs": []
    },
    {
      "cell_type": "code",
      "source": [
        "#####################################################\n",
        "# --- Agente 1: Identificador de Reivindicação --- #\n",
        "#####################################################\n",
        "def agente_identificador(texto_do_usuario):\n",
        "    identificador = Agent(\n",
        "        name=\"agente_identificador\",\n",
        "        model=\"gemini-2.0-flash\",\n",
        "        description=\"Agente que identifica reivindicações factuais no texto do usuário.\",\n",
        "        instruction=\"\"\"\n",
        "        Você é um especialista em identificar afirmações e reivindicações factuais dentro de um texto fornecido pelo usuário.\n",
        "        Sua tarefa é analisar o texto e extrair as declarações que podem ser verificadas como verdadeiras ou falsas.\n",
        "        Liste cada reivindicação factual identificada de forma clara e concisa.\n",
        "        \"\"\",\n",
        "    )\n",
        "    entrada_do_agente_identificador = f\"Texto a ser analisado: {texto_do_usuario}\"\n",
        "    reivindicacoes = call_agent(identificador, entrada_do_agente_identificador)\n",
        "    return reivindicacoes"
      ],
      "metadata": {
        "id": "o8bqIfi_DyH8"
      },
      "execution_count": 45,
      "outputs": []
    },
    {
      "cell_type": "code",
      "source": [
        "#######################################################\n",
        "# --- Agente 2: Buscador de Evidências (Fact-Checker) --- #\n",
        "#######################################################\n",
        "def agente_buscador_evidencias(reivindicacao):\n",
        "    buscador_evidencias = Agent(\n",
        "        name=\"agente_buscador_evidencias\",\n",
        "        model=\"gemini-2.0-flash\",\n",
        "        description=\"Agente que busca evidências para verificar uma reivindicação factual usando o Google.\",\n",
        "        tools=[google_search],\n",
        "        instruction=\"\"\"\n",
        "        Você é um investigador de fatos rigoroso e criterioso. Dada uma reivindicação factual, sua tarefa é usar a ferramenta de busca do Google (google_search)\n",
        "para encontrar evidências que possam confirmar ou refutar essa reivindicação.\n",
        "**Priorize a busca por evidências em fontes altamente confiáveis e seguras**, como:\n",
        "* Agências de notícias renomadas e com histórico de precisão.\n",
        "* Organizações de pesquisa acadêmica e científica com credibilidade.\n",
        "* Sites de fact-checking estabelecidos e com metodologia transparente.\n",
        "* Publicações governamentais e de organizações internacionais reconhecidas.\n",
        "\n",
        "**É fundamental que você inclua os links diretos e seguros (HTTPS) das páginas da web que contêm as evidências que você encontrou.**\n",
        "Retorne um resumo das evidências encontradas, **listando claramente os URLs seguros (HTTPS) das fontes utilizadas.**\n",
        "Se não encontrar evidências claras em fontes confiáveis e seguras, indique isso explicitamente.\n",
        "\n",
        "        **É fundamental que você inclua os links diretos e seguros (HTTPS) das páginas da web que contêm as evidências que você encontrou.**\n",
        "        Retorne um resumo das evidências encontradas, **listando claramente os URLs seguros (HTTPS) das fontes utilizadas.**\n",
        "        Se não encontrar evidências claras em fontes confiáveis e seguras, indique isso explicitamente.\n",
        "\"\"\",\n",
        "    )\n",
        "    entrada_do_agente_buscador_evidencias = f\"Reivindicação a ser verificada: {reivindicacao}\"\n",
        "    evidencias_com_links = call_agent(buscador_evidencias, entrada_do_agente_buscador_evidencias)\n",
        "    return evidencias_com_links"
      ],
      "metadata": {
        "id": "y3VO1uo5_ghO"
      },
      "execution_count": 64,
      "outputs": []
    },
    {
      "cell_type": "code",
      "source": [
        "#######################################################\n",
        "# --- Agente 3: Agente Intermediário para Extrair Links --- #\n",
        "#######################################################\n",
        "\n",
        "def agente_extrator_links(texto_com_evidencias):\n",
        "    extrator = Agent(\n",
        "        name=\"agente_extrator_links\",\n",
        "        model=\"gemini-2.0-flash\",\n",
        "        tools=[google_search],\n",
        "        instruction=\"\"\"\n",
        "        Sua tarefa é analisar o texto fornecido, que contém evidências encontradas em pesquisas online.\n",
        "        Extraia todos os links de sites (URLs que começam com http ou https) mencionados no texto.\n",
        "        Retorne uma lista clara e concisa dos links encontrados. Se nenhum link for encontrado, retorne uma mensagem indicando isso.\n",
        "        \"\"\",\n",
        "        description=\"Agente que extrai links de um texto.\"\n",
        "    )\n",
        "    entrada_extrator = f\"Texto a ser analisado: {texto_com_evidencias}\"\n",
        "    links_encontrados = call_agent(extrator, entrada_extrator)\n",
        "    return links_encontrados\n",
        "\n"
      ],
      "metadata": {
        "id": "AXczDyAKl6V8"
      },
      "execution_count": 83,
      "outputs": []
    },
    {
      "cell_type": "code",
      "source": [
        "####################################################\n",
        "# --- Agente 4: Avaliador de Fatos (Veredicto) --- #\n",
        "####################################################\n",
        "def agente_avaliador(reivindicacao, evidencias_com_links, links):\n",
        "    avaliador = Agent(\n",
        "        name=\"agente_avaliador\",\n",
        "        model=\"gemini-2.0-flash\",\n",
        "        instruction=\"\"\"\n",
        "        Você é um avaliador de fatos experiente e responsável. Dada uma reivindicação factual, as evidências encontradas e uma lista de links,\n",
        "        sua tarefa é determinar se a reivindicação é verdadeira, falsa ou se não há evidências suficientes para chegar a uma conclusão.\n",
        "        Forneça um veredicto claro e conciso, juntamente com uma breve explicação baseada nas evidências.\n",
        "        **Ao citar as fontes que sustentam seu veredicto, é obrigatório que você inclua os links diretos e seguros (HTTPS) para essas fontes confiáveis.**\n",
        "        Se as evidências fornecidas pelo agente buscador não contiverem links confiáveis e seguros, mencione isso em sua avaliação.\n",
        "        \"\"\",\n",
        "        description=\"Agente que avalia a veracidade de reivindicações factuais e utiliza os links.\"\n",
        "    )\n",
        "    entrada_do_agente_avaliador = f\"Reivindicação: {reivindicacao}\\nEvidências encontradas: {evidencias_com_links}\\nLinks encontrados: {links}\"\n",
        "    veredito_com_links = call_agent(avaliador, entrada_do_agente_avaliador)\n",
        "    return veredito_com_links"
      ],
      "metadata": {
        "id": "uOqlg2TRLVh1"
      },
      "execution_count": 80,
      "outputs": []
    },
    {
      "cell_type": "code",
      "source": [
        "######################################################\n",
        "# --- Agente 5: Gerador de Resposta ao Usuário --- #\n",
        "######################################################\n",
        "def agente_resposta(texto_do_usuario, reivindicacoes_e_veredictos_com_links):\n",
        "    resposta = Agent(\n",
        "        name=\"agente_resposta\",\n",
        "        model=\"gemini-2.0-flash\",\n",
        "        instruction=\"\"\"\n",
        "        Com base no texto original do usuário e na avaliação das reivindicações factuais identificadas (incluindo veredictos e links confiáveis e seguros),\n",
        "sua tarefa é gerar uma resposta clara e informativa para o usuário.\n",
        "A resposta deve indicar quais partes do texto foram verificadas, qual foi o veredicto para cada reivindicação,\n",
        "fornecer um breve resumo das evidências que levaram a essa conclusão.\n",
        "        \"\"\",\n",
        "        description=\"Agente que gera a resposta final para o usuário, incluindo os links das fontes.\"\n",
        "    )\n",
        "    entrada_do_agente_resposta = f\"Texto do usuário: {texto_do_usuario}\\nResultados da verificação (com links): {reivindicacoes_e_veredictos_com_links}\"\n",
        "    resposta_ao_usuario_com_links = call_agent(resposta, entrada_do_agente_resposta)\n",
        "    return resposta_ao_usuario_com_links"
      ],
      "metadata": {
        "id": "_aTb1SdkLeT6"
      },
      "execution_count": 91,
      "outputs": []
    },
    {
      "cell_type": "code",
      "source": [
        "# --- Fluxo de Execução do ChatBot ---\n",
        "def chatbot_fact_checking_com_links():\n",
        "    print(\"🤖 Iniciando o ChatBot de Combate à Desinformação (com Links) 🤖\")\n",
        "    texto_para_verificar = input(\"❓ Por favor, digite o texto que você gostaria de verificar: \")\n",
        "\n",
        "    if not texto_para_verificar:\n",
        "        print(\"Você não digitou nenhum texto para verificar.\")\n",
        "        return\n",
        "\n",
        "    print(\"\\n🔎 Identificando reivindicações factuais...\\n\")\n",
        "    reivindicacoes = agente_identificador(texto_para_verificar)\n",
        "    display(md(f\"**Reivindicações identificadas:**\\n{reivindicacoes}\"))\n",
        "    print(\"---------------------------------------------------------------\")\n",
        "\n",
        "    resultados_verificacao_com_links = {}\n",
        "    if reivindicacoes:\n",
        "        lista_de_reivindicacoes = reivindicacoes.split(\"\\n\") # Supondo que cada reivindicação venha em uma linha\n",
        "        for i, reivindicacao in enumerate(lista_de_reivindicacoes):\n",
        "            if reivindicacao.strip(): # Verifica se a linha não está vazia\n",
        "                print(f\"\\n🔍 Buscando evidências para a reivindicação '{reivindicacao.strip()}'...\\n\")\n",
        "                evidencias_com_texto = agente_buscador_evidencias(reivindicacao.strip())\n",
        "                display(md(f\"**Evidências encontradas para '{reivindicacao.strip()}':**\\n{evidencias_com_texto}\"))\n",
        "                print(\"---------------------------------------------------------------\")\n",
        "\n",
        "                print(f\"\\n🔗 Extraindo links da evidência para '{reivindicacao.strip()}'...\\n\")\n",
        "                links = agente_extrator_links(evidencias_com_texto)\n",
        "                display(md(f\"**Links encontrados para '{reivindicacao.strip()}':**\\n{links}\"))\n",
        "                print(\"---------------------------------------------------------------\")\n",
        "\n",
        "                print(f\"\\n⚖️ Avaliando a veracidade da reivindicação '{reivindicacao.strip()}'...\\n\")\n",
        "                veredito_com_links = agente_avaliador(reivindicacao.strip(), evidencias_com_texto, links)\n",
        "                display(md(f\"**Veredito para '{reivindicacao.strip()}':**\\n{veredito_com_links}\"))\n",
        "                print(\"---------------------------------------------------------------\")\n",
        "                resultados_verificacao_com_links[reivindicacao.strip()] = veredito_com_links\n",
        "    else:\n",
        "        print(\"Nenhuma reivindicação factual foi identificada no texto.\")\n",
        "        return\n",
        "\n",
        "    print(\"\\n💬 Gerando resposta para o usuário com links...\\n\")\n",
        "    resposta_final_com_links = agente_resposta(texto_para_verificar, resultados_verificacao_com_links)\n",
        "    display(md(f\"**Resposta Final (com links):**\\n{resposta_final_com_links}\"))\n",
        "    print(\"---------------------------------------------------------------\")\n",
        "\n",
        "    print(\"\\n✅ Processo de verificação concluído (com links)! ✅\")\n",
        "\n",
        "# Para executar o ChatBot com links\n",
        "chatbot_fact_checking_com_links()"
      ],
      "metadata": {
        "id": "630ummxz4myx",
        "colab": {
          "base_uri": "https://localhost:8080/",
          "height": 1000
        },
        "outputId": "c4fa8139-db4a-424e-b9c2-404e8053f1f4"
      },
      "execution_count": 93,
      "outputs": [
        {
          "output_type": "stream",
          "name": "stdout",
          "text": [
            "🤖 Iniciando o ChatBot de Combate à Desinformação (com Links) 🤖\n",
            "❓ Por favor, digite o texto que você gostaria de verificar: jogar videogame torna as crianças mais violentas\n",
            "\n",
            "🔎 Identificando reivindicações factuais...\n",
            "\n"
          ]
        },
        {
          "output_type": "display_data",
          "data": {
            "text/plain": [
              "<IPython.core.display.Markdown object>"
            ],
            "text/markdown": "**Reivindicações identificadas:**\n- Jogar videogame torna as crianças mais violentas.\n"
          },
          "metadata": {}
        },
        {
          "output_type": "stream",
          "name": "stdout",
          "text": [
            "---------------------------------------------------------------\n",
            "\n",
            "🔍 Buscando evidências para a reivindicação '- Jogar videogame torna as crianças mais violentas.'...\n",
            "\n"
          ]
        },
        {
          "output_type": "display_data",
          "data": {
            "text/plain": [
              "<IPython.core.display.Markdown object>"
            ],
            "text/markdown": "**Evidências encontradas para '- Jogar videogame torna as crianças mais violentas.':**\nPara verificar a alegação de que jogar videogame torna as crianças mais violentas, vou usar a ferramenta de busca do Google para encontrar estudos e pesquisas sobre o tema.\n\n\nA alegação de que \"Jogar videogame torna as crianças mais violentas\" é complexa e não possui uma resposta simples de sim ou não. A pesquisa sobre o tema é extensa e apresenta resultados variados.\n\n**Evidências que sugerem uma possível ligação:**\n\n*   **Aumento de comportamentos agressivos:** Alguns estudos indicam que jogos violentos podem aumentar pensamentos e comportamentos agressivos em crianças, além de diminuir a empatia. No entanto, essa influência pode estar relacionada à frequência e intensidade do contato com os jogos.\n    *   [https://vertexaisearch.cloud.google.com/grounding-api-redirect/AbF9wXFkIUWU7nTUNcKPoOurp10DvpCbkge6UYScEs8q3DPaou6k2o1-ss_ARI_YNCxzUVpMuBg9Eyn-1c4GyG64ur1v8N_oBT-zFMDfR_F25Q0pibpMQNVo1gY715siqj-P_Gh2nw==](https://vertexaisearch.cloud.google.com/grounding-api-redirect/AbF9wXFkIUWU7nTUNcKPoOurp10DvpCbkge6UYScEs8q3DPaou6k2o1-ss_ARI_YNCxzUVpMuBg9Eyn-1c4GyG64ur1v8N_oBT-zFMDfR_F25Q0pibpMQNVo1gY715siqj-P_Gh2nw==)\n*   **Dessensibilização à violência:** A exposição prolongada a jogos violentos pode levar à insensibilidade ou indiferença à violência.\n    *   [https://vertexaisearch.cloud.google.com/grounding-api-redirect/AbF9wXFMPeRzoG_wHGsjAUun9bcWIv7PmYEoH_f8PEZA23yuZL9JPfFBNg5JlpbcrKe6nvYJc4XZrE57_CE31TmajX4mfWciA1ZvU673i3BQ3xijEL-ofCiq3vGW3yXkVjXLQvBexhCyE31tN6YgOQ==](https://vertexaisearch.cloud.google.com/grounding-api-redirect/AbF9wXFMPeRzoG_wHGsjAUun9bcWIv7PmYEoH_f8PEZA23yuZL9JPfFBNg5JlpbcrKe6nvYJc4XZrE57_CE31TmajX4mfWciA1ZvU673i3BQ3xijEL-ofCiq3vGW3yXkVjXLQvBexhCyE31tN6YgOQ==)\n*   **Estudos com resultados positivos:** Uma meta-análise de 2021 revelou um efeito positivo pequeno, mas significativo, de videogames violentos no comportamento agressivo físico subsequente, com um pico na adolescência.\n    *   [https://vertexaisearch.cloud.google.com/grounding-api-redirect/AbF9wXF7fZ-Nw58exfobmE6bDDVwI5d0bc28rxiKNWHz6OtDvH3BvXO-etJB6UkiQWAACeSM_En_N71YQnDNMLV61DLiy_ZCcZamSFCBHJhtsAPrch3BEWHGdMX8OY4cB4DGagwsn-m-377vw6iQ3YkmaPogdbLSeFu9XURNJEI=](https://vertexaisearch.cloud.google.com/grounding-api-redirect/AbF9wXF7fZ-Nw58exfobmE6bDDVwI5d0bc28rxiKNWHz6OtDvH3BvXO-etJB6UkiQWAACeSM_En_N71YQnDNMLV61DLiy_ZCcZamSFCBHJhtsAPrch3BEWHGdMX8OY4cB4DGagwsn-m-377vw6iQ3YkmaPogdbLSeFu9XURNJEI=)\n\n**Evidências que questionam a ligação direta:**\n\n*   **Resultados inconclusivos:** Algumas pesquisas indicam que a relação entre jogos violentos e agressividade é frágil e influenciada por outros fatores, como tempo de jogo, personalidade da criança, contexto familiar e social.\n    *   [https://vertexaisearch.cloud.google.com/grounding-api-redirect/AbF9wXFMPeRzoG_wHGsjAUun9bcWIv7PmYEoH_f8PEZA23yuZL9JPfFBNg5JlpbcrKe6nvYJc4XZrE57_CE31TmajX4mfWciA1ZvU673i3BQ3xijEL-ofCiq3vGW3yXkVjXLQvBexhCyE31tN6YgOQ==](https://vertexaisearch.cloud.google.com/grounding-api-redirect/AbF9wXFMPeRzoG_wHGsjAUun9bcWIv7PmYEoH_f8PEZA23yuZL9JPfFBNg5JlpbcrKe6nvYJc4XZrE57_CE31TmajX4mfWciA1ZvU673i3BQ3xijEL-ofCiq3vGW3yXkVjXLQvBexhCyE31tN6YgOQ==)\n*   **Meta-análise questionando resultados:** Uma meta-análise de 2018 questionou a significância estatística de estudos que ligam videogames violentos à agressão.\n    *   [https://vertexaisearch.cloud.google.com/grounding-api-redirect/AbF9wXEMDqIgZJGRq66iUTk1YGNqedRZ-Ykrm9q4h87GzIfWxc45H0X4pOidoOez9kbiugRalW6y69LdS_eiTOB3xJSwm27iz9QVy3SKWPFfc1G3gE-Vy-BbyruFqV5NAJHfv_1Dri9Ky7Cpy4dNjmznqgovrnrxOFxp-YPo2r0-r4VR75U2v04Gv76-hhNd94QSuc5p8dntL-mnclKDp5oIS-3y4as=](https://vertexaisearch.cloud.google.com/grounding-api-redirect/AbF9wXEMDqIgZJGRq66iUTk1YGNqedRZ-Ykrm9q4h87GzIfWxc45H0X4pOidoOez9kbiugRalW6y69LdS_eiTOB3xJSwm27iz9QVy3SKWPFfc1G3gE-Vy-BbyruFqV5NAJHfv_1Dri9Ky7Cpy4dNjmznqgovrnrxOFxp-YPo2r0-r4VR75U2v04Gv76-hhNd94QSuc5p8dntL-mnclKDp5oIS-3y4as=)\n*   **Fatores adicionais:** Personalidade agressiva preexistente, problemas familiares e más companhias podem contribuir mais para o comportamento agressivo do que os jogos.\n    *   [https://vertexaisearch.cloud.google.com/grounding-api-redirect/AbF9wXGueizd31Z0PtE1MSfHfCG4ZrAR6wEOHIGyAjmWHQKNx4WxdgPM2lgUGHFh5AhvJ3NR2IXko2Hbm9CkUZWtK6tNTxmzDzypmTbGHElBkCfRhB3geRQSqn07RpllO6wAazbhkDEpEzGN_fcHL-PGgQnZRwA=](https://vertexaisearch.cloud.google.com/grounding-api-redirect/AbF9wXGueizd31Z0PtE1MSfHfCG4ZrAR6wEOHIGyAjmWHQKNx4WxdgPM2lgUGHFh5AhvJ3NR2IXko2Hbm9CkUZWtK6tNTxmzDzypmTbGHElBkCfRhB3geRQSqn07RpllO6wAazbhkDEpEzGN_fcHL-PGgQnZRwA=)\n*   **Benefícios dos jogos:** Os videogames podem ter efeitos positivos no desenvolvimento cognitivo, coordenação motora, raciocínio e habilidades sociais.\n    *   [https://vertexaisearch.cloud.google.com/grounding-api-redirect/AbF9wXFLeJZ92Bt8RGddL66FlU1b23Offo_NpM_sXzRzLnNijmjZp3TSE70ePriYpjV_1xNJxXD1IJMXrHj6HsxSfMp85axObZ3d31ZaoVrVfTsO9WFw5nQ70_136VK2pF285eJeoaHzLl57QxwjvqVTlxQ_pWhe8YLGvmJoE4gQzekBfW4FtRBk_AtJA9O4JyFffk7jTlWHR3kA980BX_6RwLEHuWY6e9xg1Pxu](https://vertexaisearch.cloud.google.com/grounding-api-redirect/AbF9wXFLeJZ92Bt8RGddL66FlU1b23Offo_NpM_sXzRzLnNijmjZp3TSE70ePriYpjV_1xNJxXD1IJMXrHj6HsxSfMp85axObZ3d31ZaoVrVfTsO9WFw5nQ70_136VK2pF285eJeoaHzLl57QxwjvqVTlxQ_pWhe8YLGvmJoE4gQzekBfW4FtRBk_AtJA9O4JyFffk7jTlWHR3kA980BX_6RwLEHuWY6e9xg1Pxu)\n\n**Recomendações:**\n\n*   **Moderação:** O uso excessivo de videogames pode levar ao sedentarismo e problemas de sono. A Sociedade Brasileira de Pediatria recomenda limitar o tempo de tela para crianças e adolescentes.\n    *   [https://vertexaisearch.cloud.google.com/grounding-api-redirect/AbF9wXFMPeRzoG_wHGsjAUun9bcWIv7PmYEoH_f8PEZA23yuZL9JPfFBNg5JlpbcrKe6nvYJc4XZrE57_CE31TmajX4mfWciA1ZvU673i3BQ3xijEL-ofCiq3vGW3yXkVjXLQvBexhCyE31tN6YgOQ==](https://vertexaisearch.cloud.google.com/grounding-api-redirect/AbF9wXFMPeRzoG_wHGsjAUun9bcWIv7PmYEoH_f8PEZA23yuZL9JPfFBNg5JlpbcrKe6nvYJc4XZrE57_CE31TmajX4mfWciA1ZvU673i3BQ3xijEL-ofCiq3vGW3yXkVjXLQvBexhCyE31tN6YgOQ==)\n*   **Conteúdo:** É importante monitorar o conteúdo dos jogos e garantir que sejam adequados para a idade e maturidade emocional da criança.\n    *   [https://vertexaisearch.cloud.google.com/grounding-api-redirect/AbF9wXG5LVJSFg5NfsYnWG_INdzM0bRl8RIhuRp284M8wqB7UWL03y5pU2vXs9UTJ_QOzT3_eZI7jBfdt_r4awjG3TQBHdQrFTi7--6j81fbOZL7ExR-CytqFWJ7Snu0gAfv0FDHy2IxZIuhD_83e0Pf9ZKjKKnNTHgJ41zjkUaL2TJc_e_Hk2AenSCOTme9uITqsg==](https://vertexaisearch.cloud.google.com/grounding-api-redirect/AbF9wXG5LVJSFg5NfsYnWG_INdzM0bRl8RIhuRp284M8wqB7UWL03y5pU2vXs9UTJ_QOzT3_eZI7jBfdt_r4awjG3TQBHdQrFTi7--6j81fbOZL7ExR-CytqFWJ7Snu0gAfv0FDHy2IxZIuhD_83e0Pf9ZKjKKnNTHgJ41zjkUaL2TJc_e_Hk2AenSCOTme9uITqsg==)\n*   **Diálogo:** Manter um diálogo aberto com a criança sobre o conteúdo dos jogos e seus sentimentos em relação a eles é fundamental.\n    *   [https://vertexaisearch.cloud.google.com/grounding-api-redirect/AbF9wXH87S_pkssMn-LMvrYVGYvJXeac4uOXr3NM2xKjnsXZWBTq79f0feVLw_7j2IBSDQisc26iPJWKLQMlW5rc8wpMQ8gv7BE6WajDzuNzWfHNRqNz3JavP1s4SM54YsXi4AB_WvoHPG-AE9HB3vTThy064w0EzPaRGW6jZHOLFFDJ2TZRPLF7C3J-G5NWVAX_NHYXGV9mMQ==](https://vertexaisearch.cloud.google.com/grounding-api-redirect/AbF9wXH87S_pkssMn-LMvrYVGYvJXeac4uOXr3NM2xKjnsXZWBTq79f0feVLw_7j2IBSDQisc26iPJWKLQMlW5rc8wpMQ8gv7BE6WajDzuNzWfHNRqNz3JavP1s4SM54YsXi4AB_WvoHPG-AE9HB3vTThy064w0EzPaRGW6jZHOLFFDJ2TZRPLF7C3J-G5NWVAX_NHYXGV9mMQ==)\n*   **Equilíbrio:** Incentivar atividades físicas, sociais e criativas para garantir um desenvolvimento saudável.\n    *   [https://vertexaisearch.cloud.google.com/grounding-api-redirect/AbF9wXH87S_pkssMn-LMvrYVGYvJXeac4uOXr3NM2xKjnsXZWBTq79f0feVLw_7j2IBSDQisc26iPJWKLQMlW5rc8wpMQ8gv7BE6WajDzuNzWfHNRqNz3JavP1s4SM54YsXi4AB_WvoHPG-AE9HB3vTThy064w0EzPaRGW6jZHOLFFDJ2TZRPLF7C3J-G5NWVAX_NHYXGV9mMQ==](https://vertexaisearch.cloud.google.com/grounding-api-redirect/AbF9wXH87S_pkssMn-LMvrYVGYvJXeac4uOXr3NM2xKjnsXZWBTq79f0feVLw_7j2IBSDQisc26iPJWKLQMlW5rc8wpMQ8gv7BE6WajDzuNzWfHNRqNz3JavP1s4SM54YsXi4AB_WvoHPG-AE9HB3vTThy064w0EzPaRGW6jZHOLFFDJ2TZRPLF7C3J-G5NWVAX_NHYXGV9mMQ==)\n\n**Conclusão:**\n\nNão há consenso sobre se jogar videogame torna as crianças mais violentas. A maioria dos especialistas concorda que não existe uma relação de causa e efeito direta. No entanto, é importante estar atento ao tempo de jogo, ao conteúdo e ao contexto em que a criança está inserida. A moderação, o diálogo e o equilíbrio são fundamentais para garantir um desenvolvimento saudável.\n\n"
          },
          "metadata": {}
        },
        {
          "output_type": "stream",
          "name": "stdout",
          "text": [
            "---------------------------------------------------------------\n",
            "\n",
            "🔗 Extraindo links da evidência para '- Jogar videogame torna as crianças mais violentas.'...\n",
            "\n"
          ]
        },
        {
          "output_type": "display_data",
          "data": {
            "text/plain": [
              "<IPython.core.display.Markdown object>"
            ],
            "text/markdown": "**Links encontrados para '- Jogar videogame torna as crianças mais violentas.':**\nAqui estão os links encontrados no texto:\n\n*   [https://vertexaisearch.cloud.google.com/grounding-api-redirect/AbF9wXFkIUWU7nTUNcKPoOurp10DvpCbkge6UYScEs8q3DPaou6k2o1-ss_ARI_YNCxzUVpMuBg9Eyn-1c4GyG64ur1v8N_oBT-zFMDfR_F25Q0pibpMQNVo1gY715siqj-P_Gh2nw==](https://vertexaisearch.cloud.google.com/grounding-api-redirect/AbF9wXFkIUWU7nTUNcKPoOurp10DvpCbkge6UYScEs8q3DPaou6k2o1-ss_ARI_YNCxzUVpMuBg9Eyn-1c4GyG64ur1v8N_oBT-zFMDfR_F25Q0pibpMQNVo1gY715siqj-P_Gh2nw==)\n*   [https://vertexaisearch.cloud.google.com/grounding-api-redirect/AbF9wXFMPeRzoG_wHGsjAUun9bcWIv7PmYEoH_f8PEZA23yuZL9JPfFBNg5JlpbcrKe6nvYJc4XZrE57_CE31TmajX4mfWciA1ZvU673i3BQ3xijEL-ofCiq3vGW3yXkVjXLQvBexhCyE31tN6YgOQ==](https://vertexaisearch.cloud.google.com/grounding-api-redirect/AbF9wXFMPeRzoG_wHGsjAUun9bcWIv7PmYEoH_f8PEZA23yuZL9JPfFBNg5JlpbcrKe6nvYJc4XZrE57_CE31TmajX4mfWciA1ZvU673i3BQ3xijEL-ofCiq3vGW3yXkVjXLQvBexhCyE31tN6YgOQ==)\n*   [https://vertexaisearch.cloud.google.com/grounding-api-redirect/AbF9wXF7fZ-Nw58exfobmE6bDDVwI5d0bc28rxiKNWHz6OtDvH3BvXO-etJB6UkiQWAACeSM_En_N71YQnDNMLV61DLiy_ZCcZamSFCBHJhtsAPrch3BEWHGdMX8OY4cB4DGagwsn-m-377vw6iQ3YkmaPogdbLSeFu9XURNJEI=](https://vertexaisearch.cloud.google.com/grounding-api-redirect/AbF9wXF7fZ-Nw58exfobmE6bDDVwI5d0bc28rxiKNWHz6OtDvH3BvXO-etJB6UkiQWAACeSM_En_N71YQnDNMLV61DLiy_ZCcZamSFCBHJhtsAPrch3BEWHGdMX8OY4cB4DGagwsn-m-377vw6iQ3YkmaPogdbLSeFu9XURNJEI=)\n*   [https://vertexaisearch.cloud.google.com/grounding-api-redirect/AbF9wXEMDqIgZJGRq66iUTk1YGNqedRZ-Ykrm9q4h87GzIfWxc45H0X4pOidoOez9kbiugRalW6y69LdS_eiTOB3xJSwm27iz9QVy3SKWPFfc1G3gE-Vy-BbyruFqV5NAJHfv_1Dri9Ky7Cpy4dNjmznqgovrnrxOFxp-YPo2r0-r4VR75U2v04Gv76-hhNd94QSuc5p8dntL-mnclKDp5oIS-3y4as=](https://vertexaisearch.cloud.google.com/grounding-api-redirect/AbF9wXEMDqIgZJGRq66iUTk1YGNqedRZ-Ykrm9q4h87GzIfWxc45H0X4pOidoOez9kbiugRalW6y69LdS_eiTOB3xJSwm27iz9QVy3SKWPFfc1G3gE-Vy-BbyruFqV5NAJHfv_1Dri9Ky7Cpy4dNjmznqgovrnrxOFxp-YPo2r0-r4VR75U2v04Gv76-hhNd94QSuc5p8dntL-mnclKDp5oIS-3y4as=)\n*   [https://vertexaisearch.cloud.google.com/grounding-api-redirect/AbF9wXGueizd31Z0PtE1MSfHfCG4ZrAR6wEOHIGyAjmWHQKNx4WxdgPM2lgUGHFh5AhvJ3NR2IXko2Hbm9CkUZWtK6tNTxmzDzypmTbGHElBkCfRhB3geRQSqn07RpllO6wAazbhkDEpEzGN_fcHL-PGgQnZRwA=](https://vertexaisearch.cloud.google.com/grounding-api-redirect/AbF9wXGueizd31Z0PtE1MSfHfCG4ZrAR6wEOHIGyAjmWHQKNx4WxdgPM2lgUGHFh5AhvJ3NR2IXko2Hbm9CkUZWtK6tNTxmzDzypmTbGHElBkCfRhB3geRQSqn07RpllO6wAazbhkDEpEzGN_fcHL-PGgQnZRwA=)\n*   [https://vertexaisearch.cloud.google.com/grounding-api-redirect/AbF9wXFLeJZ92Bt8RGddL66FlU1b23Offo_NpM_sXzRzLnNijmjZp3TSE70ePriYpjV_1xNJxXD1IJMXrHj6HsxSfMp85axObZ3d31ZaoVrVfTsO9WFw5nQ70_136VK2pF285eJeoaHzLl57QxwjvqVTlxQ_pWhe8YLGvmJoE4gQzekBfW4FtRBk_AtJA9O4JyFffk7jTlWHR3kA980BX_6RwLEHuWY6e9xg1Pxu](https://vertexaisearch.cloud.google.com/grounding-api-redirect/AbF9wXFLeJZ92Bt8RGddL66FlU1b23Offo_NpM_sXzRzLnNijmjZp3TSE70ePriYpjV_1xNJxXD1IJMXrHj6HsxSfMp85axObZ3d31ZaoVrVfTsO9WFw5nQ70_136VK2pF285eJeoaHzLl57QxwjvqVTlxQ_pWhe8YLGvmJoE4gQzekBfW4FtRBk_AtJA9O4JyFffk7jTlWHR3kA980BX_6RwLEHuWY6e9xg1Pxu)\n*   [https://vertexaisearch.cloud.google.com/grounding-api-redirect/AbF9wXG5LVJSFg5NfsYnWG_INdzM0bRl8RIhuRp284M8wqB7UWL03y5pU2vXs9UTJ_QOzT3_eZI7jBfdt_r4awjG3TQBHdQrFTi7--6j81fbOZL7ExR-CytqFWJ7Snu0gAfv0FDHy2IxZIuhD_83e0Pf9ZKjKKnNTHgJ41zjkUaL2TJc_e_Hk2AenSCOTme9uITqsg==](https://vertexaisearch.cloud.google.com/grounding-api-redirect/AbF9wXG5LVJSFg5NfsYnWG_INdzM0bRl8RIhuRp284M8wqB7UWL03y5pU2vXs9UTJ_QOzT3_eZI7jBfdt_r4awjG3TQBHdQrFTi7--6j81fbOZL7ExR-CytqFWJ7Snu0gAfv0FDHy2IxZIuhD_83e0Pf9ZKjKKnNTHgJ41zjkUaL2TJc_e_Hk2AenSCOTme9uITqsg==)\n*   [https://vertexaisearch.cloud.google.com/grounding-api-redirect/AbF9wXH87S_pkssMn-LMvrYVGYvJXeac4uOXr3NM2xKjnsXZWBTq79f0feVLw_7j2IBSDQisc26iPJWKLQMlW5rc8wpMQ8gv7BE6WajDzuNzWfHNRqNz3JavP1s4SM54YsXi4AB_WvoHPG-AE9HB3vTThy064w0EzPaRGW6jZHOLFFDJ2TZRPLF7C3J-G5NWVAX_NHYXGV9mMQ==](https://vertexaisearch.cloud.google.com/grounding-api-redirect/AbF9wXH87S_pkssMn-LMvrYVGYvJXeac4uOXr3NM2xKjnsXZWBTq79f0feVLw_7j2IBSDQisc26iPJWKLQMlW5rc8wpMQ8gv7BE6WajDzuNzWfHNRqNz3JavP1s4SM54YsXi4AB_WvoHPG-AE9HB3vTThy064w0EzPaRGW6jZHOLFFDJ2TZRPLF7C3J-G5NWVAX_NHYXGV9mMQ==)\n\n"
          },
          "metadata": {}
        },
        {
          "output_type": "stream",
          "name": "stdout",
          "text": [
            "---------------------------------------------------------------\n",
            "\n",
            "⚖️ Avaliando a veracidade da reivindicação '- Jogar videogame torna as crianças mais violentas.'...\n",
            "\n"
          ]
        },
        {
          "output_type": "display_data",
          "data": {
            "text/plain": [
              "<IPython.core.display.Markdown object>"
            ],
            "text/markdown": "**Veredito para '- Jogar videogame torna as crianças mais violentas.':**\nA alegação de que jogar videogame torna as crianças mais violentas é complexa e não tem uma resposta simples de sim ou não. A pesquisa sobre o tema é extensa e apresenta resultados variados, portanto, não há evidências suficientes para chegar a uma conclusão definitiva.\n"
          },
          "metadata": {}
        },
        {
          "output_type": "stream",
          "name": "stdout",
          "text": [
            "---------------------------------------------------------------\n",
            "\n",
            "💬 Gerando resposta para o usuário com links...\n",
            "\n"
          ]
        },
        {
          "output_type": "display_data",
          "data": {
            "text/plain": [
              "<IPython.core.display.Markdown object>"
            ],
            "text/markdown": "**Resposta Final (com links):**\nA alegação de que jogar videogame torna as crianças mais violentas é complexa e não tem uma resposta simples de sim ou não. A pesquisa sobre o tema é extensa e apresenta resultados variados, portanto, não há evidências suficientes para chegar a uma conclusão definitiva.\n\n"
          },
          "metadata": {}
        },
        {
          "output_type": "stream",
          "name": "stdout",
          "text": [
            "---------------------------------------------------------------\n",
            "\n",
            "✅ Processo de verificação concluído (com links)! ✅\n"
          ]
        }
      ]
    },
    {
      "cell_type": "code",
      "source": [],
      "metadata": {
        "id": "hg-TYd9qiSez"
      },
      "execution_count": null,
      "outputs": []
    }
  ]
}